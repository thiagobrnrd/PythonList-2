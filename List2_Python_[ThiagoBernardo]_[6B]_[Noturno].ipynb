{
  "nbformat": 4,
  "nbformat_minor": 0,
  "metadata": {
    "colab": {
      "provenance": [],
      "include_colab_link": true
    },
    "kernelspec": {
      "name": "python3",
      "display_name": "Python 3"
    },
    "language_info": {
      "name": "python"
    }
  },
  "cells": [
    {
      "cell_type": "markdown",
      "metadata": {
        "id": "view-in-github",
        "colab_type": "text"
      },
      "source": [
        "<a href=\"https://colab.research.google.com/github/thiagobrnrd/PythonList-2/blob/main/List2_Python_%5BThiagoBernardo%5D_%5B6B%5D_%5BNoturno%5D.ipynb\" target=\"_parent\"><img src=\"https://colab.research.google.com/assets/colab-badge.svg\" alt=\"Open In Colab\"/></a>"
      ]
    },
    {
      "cell_type": "code",
      "execution_count": null,
      "metadata": {
        "id": "0JcMaR3UhUuj",
        "colab": {
          "base_uri": "https://localhost:8080/"
        },
        "outputId": "1f2b9512-3f1f-4faf-f380-0fb0a8cec96f"
      },
      "outputs": [
        {
          "output_type": "stream",
          "name": "stdout",
          "text": [
            "Digite uma lista de números: 10 20 30\n",
            "A média é: 20.00\n"
          ]
        }
      ],
      "source": [
        "# Calcular Média Aritimética\n",
        "\n",
        "numeros = input(\"Digite uma lista de números: \")\n",
        "\n",
        "convert_list = list(map(float, numeros.split()))\n",
        "\n",
        "if convert_list:\n",
        "    media = sum(convert_list) / len(convert_list)\n",
        "    print(f\"A média é: {media:.2f}\")\n",
        "else:\n",
        "    print(\"Nenhum número foi inserido.\")\n"
      ]
    },
    {
      "cell_type": "code",
      "source": [
        "#Contador de Caracteres\n",
        "\n",
        "texto = input(\"Digite uma frase para a contagem: \")\n",
        "\n",
        "contador = len(texto.replace(\" \", \"\"))\n",
        "\n",
        "print(f\"O número de caracteres é: {contador}\")\n",
        "\n"
      ],
      "metadata": {
        "colab": {
          "base_uri": "https://localhost:8080/"
        },
        "id": "Bfhs09g_XK3s",
        "outputId": "edf4dd6c-9c19-440c-dd36-bad4ea347e91"
      },
      "execution_count": null,
      "outputs": [
        {
          "output_type": "stream",
          "name": "stdout",
          "text": [
            "Digite uma frase para a contagem: thiago bernardo\n",
            "O número de caracteres é: 14\n"
          ]
        }
      ]
    },
    {
      "cell_type": "code",
      "source": [
        "#Verificador de Palíndromo\n",
        "\n",
        "def eh_palindromo(texto):\n",
        "\n",
        "    texto_limpo = texto.replace(\" \", \"\")\n",
        "\n",
        "\n",
        "    return texto_limpo == texto_limpo[::-1]\n",
        "\n",
        "texto = input(\"Digite uma palavra ou frase: \")\n",
        "\n",
        "if eh_palindromo(texto):\n",
        "    print(\"É um palíndromo!\")\n",
        "else:\n",
        "    print(\"Não é um palíndromo.\")\n",
        "\n",
        "\n",
        "\n",
        "\n",
        "\n"
      ],
      "metadata": {
        "colab": {
          "base_uri": "https://localhost:8080/"
        },
        "id": "l1upKfq5YMPi",
        "outputId": "09c90c3e-9dcd-42ab-93b0-da4d1659e65a"
      },
      "execution_count": null,
      "outputs": [
        {
          "output_type": "stream",
          "name": "stdout",
          "text": [
            "Digite uma palavra ou frase: bom dia \n",
            "Não é um palíndromo.\n"
          ]
        }
      ]
    },
    {
      "cell_type": "code",
      "source": [
        "# Transformar temperatura\n",
        "\n",
        "def celsius_para_fahrenheit(c):\n",
        "    return (c * 9/5) + 32\n",
        "\n",
        "def fahrenheit_para_celsius(f):\n",
        "    return (f - 32) * 5/9\n",
        "\n",
        "print(\"Escolha a conversão:\")\n",
        "print(\"1 - Celsius para Fahrenheit\")\n",
        "print(\"2 - Fahrenheit para Celsius\")\n",
        "\n",
        "opcao = input(\"Digite 1 ou 2: \")\n",
        "\n",
        "if opcao == \"1\":\n",
        "    celsius = float(input(\"Digite a temperatura em Celsius: \"))\n",
        "    print(f\"{celsius}°C equivale a {celsius_para_fahrenheit(celsius):.2f}°F\")\n",
        "elif opcao == \"2\":\n",
        "    fahrenheit = float(input(\"Digite a temperatura em Fahrenheit: \"))\n",
        "    print(f\"{fahrenheit}°F equivale a {fahrenheit_para_celsius(fahrenheit):.2f}°C\")\n",
        "else:\n",
        "    print(\"Opção inválida! Escolha 1 ou 2.\")"
      ],
      "metadata": {
        "colab": {
          "base_uri": "https://localhost:8080/"
        },
        "id": "Cs29tqlIc0fn",
        "outputId": "9641af13-a288-4d8a-8df3-bbba3da14280"
      },
      "execution_count": null,
      "outputs": [
        {
          "output_type": "stream",
          "name": "stdout",
          "text": [
            "Escolha a conversão:\n",
            "1 - Celsius para Fahrenheit\n",
            "2 - Fahrenheit para Celsius\n",
            "Digite 1 ou 2: 1\n",
            "Digite a temperatura em Celsius: 32\n",
            "32.0°C equivale a 89.60°F\n"
          ]
        }
      ]
    },
    {
      "cell_type": "code",
      "source": [
        "# Gerar Taboada\n",
        "\n",
        "num = int(input(\"Digite um número para ver a tabuada: \"))\n",
        "\n",
        "print(f\"\\nTabuada do {num}:\")\n",
        "for i in range(1, 11):\n",
        "    print(f\"{num} x {i} = {num * i}\")"
      ],
      "metadata": {
        "colab": {
          "base_uri": "https://localhost:8080/"
        },
        "id": "I4jQ3lAJdvX3",
        "outputId": "540989d9-7790-453f-97d3-571675ea8e10"
      },
      "execution_count": null,
      "outputs": [
        {
          "output_type": "stream",
          "name": "stdout",
          "text": [
            "Digite um número para ver a tabuada: 5\n",
            "\n",
            "Tabuada do 5:\n",
            "5 x 1 = 5\n",
            "5 x 2 = 10\n",
            "5 x 3 = 15\n",
            "5 x 4 = 20\n",
            "5 x 5 = 25\n",
            "5 x 6 = 30\n",
            "5 x 7 = 35\n",
            "5 x 8 = 40\n",
            "5 x 9 = 45\n",
            "5 x 10 = 50\n"
          ]
        }
      ]
    },
    {
      "cell_type": "code",
      "source": [
        "# Dados\n",
        "\n",
        "import random\n",
        "\n",
        "quantidade = int(input(\"Quantas vezes deseja lançar o dado? \"))\n",
        "\n",
        "print(\"\\nResultados dos lançamentos:\")\n",
        "for i in range(1, quantidade + 1):\n",
        "    resultado = random.randint(1, 6)\n",
        "    print(f\"Lançamento {i}: {resultado}\")\n"
      ],
      "metadata": {
        "colab": {
          "base_uri": "https://localhost:8080/"
        },
        "id": "R7IoGIU0d5Gv",
        "outputId": "45032f6a-3b0c-400d-fc32-7e9c5d6c51e6"
      },
      "execution_count": null,
      "outputs": [
        {
          "output_type": "stream",
          "name": "stdout",
          "text": [
            "Quantas vezes deseja lançar o dado? 4\n",
            "\n",
            "Resultados dos lançamentos:\n",
            "Lançamento 1: 6\n",
            "Lançamento 2: 4\n",
            "Lançamento 3: 6\n",
            "Lançamento 4: 6\n"
          ]
        }
      ]
    },
    {
      "cell_type": "code",
      "source": [
        "# Sort\n",
        "\n",
        "numeros = input(\"Digite uma lista de números separados por espaço: \")\n",
        "\n",
        "lista_numeros = list(map(float, numeros.split()))\n",
        "\n",
        "print(f\"\\nLista original: {lista_numeros}\")\n",
        "\n",
        "lista_numeros.sort()\n",
        "\n",
        "print(f\"Lista ordenada: {lista_numeros}\")"
      ],
      "metadata": {
        "colab": {
          "base_uri": "https://localhost:8080/"
        },
        "id": "eh7nizYMegvW",
        "outputId": "1707a83c-2432-486d-c921-a353e741785b"
      },
      "execution_count": null,
      "outputs": [
        {
          "output_type": "stream",
          "name": "stdout",
          "text": [
            "Digite uma lista de números separados por espaço: 54 65 89 35 12\n",
            "\n",
            "Lista original: [54.0, 65.0, 89.0, 35.0, 12.0]\n",
            "Lista ordenada: [12.0, 35.0, 54.0, 65.0, 89.0]\n"
          ]
        }
      ]
    },
    {
      "cell_type": "code",
      "source": [
        "# Números Primos\n",
        "\n",
        "num = int(input(\"Digite um número: \"))\n",
        "\n",
        "divisores = [i for i in range(1, num + 1) if num % i == 0]\n",
        "\n",
        "if len(divisores) == 2:\n",
        "    print(f\"{num} é um número primo!\")\n",
        "else:\n",
        "    print(f\"{num} não é primo.\")\n",
        "\n",
        "print(f\"Divisores de {num}: {divisores}\")\n"
      ],
      "metadata": {
        "colab": {
          "base_uri": "https://localhost:8080/"
        },
        "id": "niFGe4ube4og",
        "outputId": "c859a01c-619e-4404-f2e9-3a3c27e598d5"
      },
      "execution_count": null,
      "outputs": [
        {
          "output_type": "stream",
          "name": "stdout",
          "text": [
            "Digite um número: 34\n",
            "34 não é primo.\n",
            "Divisores de 34: [1, 2, 17, 34]\n"
          ]
        }
      ]
    },
    {
      "cell_type": "code",
      "source": [
        "# Login\n",
        "\n",
        "usuarios = {}\n",
        "\n",
        "\n",
        "def cadastrar_usuario():\n",
        "    usuario = input(\"Digite um nome de usuário: \")\n",
        "    if usuario in usuarios:\n",
        "        print(\"Esse nome de usuário já está cadastrado. Tente outro.\")\n",
        "    else:\n",
        "        senha = input(\"Digite uma senha: \")\n",
        "        usuarios[usuario] = senha\n",
        "        print(\"Cadastro realizado com sucesso!\")\n",
        "\n",
        "\n",
        "def fazer_login():\n",
        "    usuario = input(\"Digite seu nome de usuário: \")\n",
        "    senha = input(\"Digite sua senha: \")\n",
        "\n",
        "\n",
        "    if usuario in usuarios and usuarios[usuario] == senha:\n",
        "        print(\"Login bem-sucedido!\")\n",
        "    else:\n",
        "        print(\"Usuário ou senha incorretos. Tente novamente.\")\n",
        "\n",
        "\n",
        "def menu():\n",
        "    while True:\n",
        "        print(\"\\n1 - Cadastrar\")\n",
        "        print(\"2 - Login\")\n",
        "        print(\"3 - Sair\")\n",
        "        opcao = input(\"Escolha uma opção: \")\n",
        "\n",
        "        if opcao == \"1\":\n",
        "            cadastrar_usuario()\n",
        "        elif opcao == \"2\":\n",
        "            fazer_login()\n",
        "        elif opcao == \"3\":\n",
        "            print(\"Saindo...\")\n",
        "            break\n",
        "        else:\n",
        "            print(\"Opção inválida, tente novamente.\")\n",
        "\n",
        "menu()\n"
      ],
      "metadata": {
        "colab": {
          "base_uri": "https://localhost:8080/"
        },
        "id": "Xz_ddUmlfOYm",
        "outputId": "6079f238-ce3f-4f04-f7e3-fe5a59469112"
      },
      "execution_count": null,
      "outputs": [
        {
          "output_type": "stream",
          "name": "stdout",
          "text": [
            "\n",
            "1 - Cadastrar\n",
            "2 - Login\n",
            "3 - Sair\n",
            "Escolha uma opção: 1\n",
            "Digite um nome de usuário: thiago\n",
            "Digite uma senha: 123\n",
            "Cadastro realizado com sucesso!\n",
            "\n",
            "1 - Cadastrar\n",
            "2 - Login\n",
            "3 - Sair\n",
            "Escolha uma opção: 2\n",
            "Digite seu nome de usuário: thiago\n",
            "Digite sua senha: 123\n",
            "Login bem-sucedido!\n",
            "\n",
            "1 - Cadastrar\n",
            "2 - Login\n",
            "3 - Sair\n",
            "Escolha uma opção: 3\n",
            "Saindo...\n"
          ]
        }
      ]
    },
    {
      "cell_type": "code",
      "source": [
        "# calculadora fatorial\n",
        "\n",
        "num = int(input(\"Digite um número para calcular o fatorial: \"))\n",
        "\n",
        "fatorial = 1\n",
        "\n",
        "for i in range(1, num + 1):\n",
        "    fatorial *= i\n",
        "\n",
        "print(f\"O fatorial de {num} é {fatorial}\")\n"
      ],
      "metadata": {
        "colab": {
          "base_uri": "https://localhost:8080/"
        },
        "id": "4UWEe1E0gY52",
        "outputId": "1f245731-f351-427b-ad9f-dc93e957f2cf"
      },
      "execution_count": null,
      "outputs": [
        {
          "output_type": "stream",
          "name": "stdout",
          "text": [
            "Digite um número para calcular o fatorial: 10\n",
            "O fatorial de 10 é 3628800\n"
          ]
        }
      ]
    },
    {
      "cell_type": "code",
      "source": [
        "#Conversor de moedas\n",
        "\n",
        "def converter_moeda(valor, moeda):\n",
        "    taxa_cambio = {\n",
        "        \"USD\": 5.10,\n",
        "        \"EUR\": 5.50\n",
        "    }\n",
        "\n",
        "    if moeda not in taxa_cambio:\n",
        "        print(\"Moeda inválida! Escolha USD ou EUR.\")\n",
        "        return None\n",
        "\n",
        "    valor_convertido = valor / taxa_cambio[moeda]\n",
        "    return valor_convertido\n",
        "\n",
        "valor_reais = float(input(\"Digite o valor em reais (BRL): \"))\n",
        "moeda_destino = input(\"Escolha a moeda de destino (USD ou EUR): \").upper()\n",
        "\n",
        "resultado = converter_moeda(valor_reais, moeda_destino)\n",
        "if resultado is not None:\n",
        "    print(f\"{valor_reais:.2f} BRL equivalem a {resultado:.2f} {moeda_destino}.\")\n"
      ],
      "metadata": {
        "colab": {
          "base_uri": "https://localhost:8080/"
        },
        "id": "dyrgODRaVjIt",
        "outputId": "1c9445d9-3883-4aaa-aaf6-fe5010f3c7ec"
      },
      "execution_count": null,
      "outputs": [
        {
          "output_type": "stream",
          "name": "stdout",
          "text": [
            "Digite o valor em reais (BRL): 50\n",
            "Escolha a moeda de destino (USD ou EUR): usd\n",
            "50.00 BRL equivalem a 9.80 USD.\n"
          ]
        }
      ]
    },
    {
      "cell_type": "code",
      "source": [
        "#COntador de Palavras\n",
        "\n",
        "import string\n",
        "\n",
        "def contar_palavras(frase):\n",
        "    frase = frase.translate(str.maketrans('', '', string.punctuation))\n",
        "    palavras = frase.split()\n",
        "    return len(palavras)\n",
        "\n",
        "frase_usuario = input(\"Digite uma frase: \")\n",
        "\n",
        "quantidade_palavras = contar_palavras(frase_usuario)\n",
        "print(f\"A frase contém {quantidade_palavras} palavras.\")\n"
      ],
      "metadata": {
        "colab": {
          "base_uri": "https://localhost:8080/"
        },
        "id": "HOBnSaFCWCuJ",
        "outputId": "7d1b5988-e056-4f96-d230-1e8e5a6dc76d"
      },
      "execution_count": null,
      "outputs": [
        {
          "output_type": "stream",
          "name": "stdout",
          "text": [
            "Digite uma frase: ola bom dia tudo bem\n",
            "A frase contém 5 palavras.\n"
          ]
        }
      ]
    },
    {
      "cell_type": "code",
      "source": [
        "# Random Generator\n",
        "\n",
        "import random\n",
        "\n",
        "def gerar_numeros_aleatorios(n, limite_inferior, limite_superior):\n",
        "    return [random.randint(limite_inferior, limite_superior) for _ in range(n)]\n",
        "\n",
        "n = int(input(\"Digite a quantidade de números aleatórios: \"))\n",
        "limite_inferior = int(input(\"Digite o limite inferior do intervalo: \"))\n",
        "limite_superior = int(input(\"Digite o limite superior do intervalo: \"))\n",
        "\n",
        "numeros = gerar_numeros_aleatorios(n, limite_inferior, limite_superior)\n",
        "print(\"Números gerados:\", numeros)"
      ],
      "metadata": {
        "colab": {
          "base_uri": "https://localhost:8080/"
        },
        "id": "LS7v4KKAWa35",
        "outputId": "3341ff2c-b7ee-4c01-8885-b1686fd57096"
      },
      "execution_count": null,
      "outputs": [
        {
          "output_type": "stream",
          "name": "stdout",
          "text": [
            "Digite a quantidade de números aleatórios: 15\n",
            "Digite o limite inferior do intervalo: 4\n",
            "Digite o limite superior do intervalo: 8\n",
            "Números gerados: [5, 5, 8, 7, 6, 7, 6, 8, 7, 7, 6, 7, 8, 7, 6]\n"
          ]
        }
      ]
    },
    {
      "cell_type": "code",
      "source": [
        "#Calculadora média ponderada\n",
        "\n",
        "def calcular_media_ponderada(notas, pesos):\n",
        "    soma_ponderada = sum(nota * peso for nota, peso in zip(notas, pesos))\n",
        "    soma_pesos = sum(pesos)\n",
        "    return soma_ponderada / soma_pesos if soma_pesos != 0 else 0\n",
        "\n",
        "quantidade = int(input(\"Digite a quantidade de notas: \"))\n",
        "notas = []\n",
        "pesos = []\n",
        "\n",
        "for i in range(quantidade):\n",
        "    nota = float(input(f\"Digite a nota {i+1}: \"))\n",
        "    peso = float(input(f\"Digite o peso da nota {i+1}: \"))\n",
        "    notas.append(nota)\n",
        "    pesos.append(peso)\n",
        "\n",
        "media = calcular_media_ponderada(notas, pesos)\n",
        "print(f\"A média ponderada das notas é: {media:.2f}\")\n"
      ],
      "metadata": {
        "colab": {
          "base_uri": "https://localhost:8080/"
        },
        "id": "H8abssRCWyPs",
        "outputId": "318a3028-89df-4756-dace-c44e58854fc7"
      },
      "execution_count": null,
      "outputs": [
        {
          "output_type": "stream",
          "name": "stdout",
          "text": [
            "Digite a quantidade de notas: 2\n",
            "Digite a nota 1: 8\n",
            "Digite o peso da nota 1: 1\n",
            "Digite a nota 2: 7\n",
            "Digite o peso da nota 2: 2\n",
            "A média ponderada das notas é: 7.33\n"
          ]
        }
      ]
    },
    {
      "cell_type": "code",
      "source": [
        "#Calculo raiz quadrada\n",
        "import math\n",
        "\n",
        "def calcular_raiz_quadrada(numero):\n",
        "    return math.sqrt(numero)\n",
        "\n",
        "numero = float(input(\"Digite um número para calcular a raiz quadrada: \"))\n",
        "\n",
        "raiz = calcular_raiz_quadrada(numero)\n",
        "print(f\"A raiz quadrada de {numero} é: {raiz:.2f}\")\n"
      ],
      "metadata": {
        "colab": {
          "base_uri": "https://localhost:8080/"
        },
        "id": "gGMgnGaCZI5t",
        "outputId": "8d0879ec-f256-4ac0-8af9-769a1272fb41"
      },
      "execution_count": null,
      "outputs": [
        {
          "output_type": "stream",
          "name": "stdout",
          "text": [
            "Digite um número para calcular a raiz quadrada: 16\n",
            "A raiz quadrada de 16.0 é: 4.00\n"
          ]
        }
      ]
    },
    {
      "cell_type": "code",
      "source": [
        "#Simulador de Caixa eletronico\n",
        "\n",
        "def simular_caixa_eletronico(valor_saque):\n",
        "    notas = [100, 50, 20, 10]\n",
        "    distribuicao = {}\n",
        "\n",
        "    for nota in notas:\n",
        "        quantidade_notas = valor_saque // nota\n",
        "        if quantidade_notas > 0:\n",
        "            distribuicao[nota] = quantidade_notas\n",
        "            valor_saque -= quantidade_notas * nota\n",
        "\n",
        "    return distribuicao\n",
        "\n",
        "valor = int(input(\"Digite o valor que deseja sacar: \"))\n",
        "\n",
        "if valor % 10 != 0:\n",
        "    print(\"Valor inválido! O caixa só fornece notas de R$100, R$50, R$20 e R$10.\")\n",
        "else:\n",
        "    resultado = simular_caixa_eletronico(valor)\n",
        "    print(\"Notas fornecidas:\")\n",
        "    for nota, quantidade in resultado.items():\n",
        "        print(f\"R${nota}: {quantidade} nota(s)\")\n",
        "\n"
      ],
      "metadata": {
        "colab": {
          "base_uri": "https://localhost:8080/"
        },
        "id": "0Xh3nSXcZXF2",
        "outputId": "189f4797-cebf-4be2-f7cc-3d88726bc0f4"
      },
      "execution_count": null,
      "outputs": [
        {
          "output_type": "stream",
          "name": "stdout",
          "text": [
            "Digite o valor que deseja sacar: 50\n",
            "Notas fornecidas:\n",
            "R$50: 1 nota(s)\n"
          ]
        }
      ]
    },
    {
      "cell_type": "code",
      "source": [
        "# Verificador de ano bissexto\n",
        "\n",
        "def eh_bissexto(ano):\n",
        "    return (ano % 4 == 0 and ano % 100 != 0) or (ano % 400 == 0)\n",
        "\n",
        "ano = int(input(\"Digite um ano para verificar se é bissexto: \"))\n",
        "\n",
        "if eh_bissexto(ano):\n",
        "    print(f\"O ano {ano} é bissexto.\")\n",
        "else:\n",
        "    print(f\"O ano {ano} não é bissexto.\")\n",
        "\n"
      ],
      "metadata": {
        "colab": {
          "base_uri": "https://localhost:8080/"
        },
        "id": "CAqy9oh1Zmlp",
        "outputId": "e9ed6e52-42f2-4e73-fb09-bb705be9ab26"
      },
      "execution_count": null,
      "outputs": [
        {
          "output_type": "stream",
          "name": "stdout",
          "text": [
            "Digite um ano para verificar se é bissexto: 2025\n",
            "O ano 2025 não é bissexto.\n"
          ]
        }
      ]
    },
    {
      "cell_type": "code",
      "source": [
        "#Gerenciador de COntatos\n",
        "\n",
        "def adicionar_contato(contatos, nome, telefone):\n",
        "    contatos[nome] = telefone\n",
        "    print(f\"Contato {nome} adicionado com sucesso!\")\n",
        "\n",
        "def remover_contato(contatos, nome):\n",
        "    if nome in contatos:\n",
        "        del contatos[nome]\n",
        "        print(f\"Contato {nome} removido com sucesso!\")\n",
        "    else:\n",
        "        print(\"Contato não encontrado.\")\n",
        "\n",
        "def listar_contatos(contatos):\n",
        "    if contatos:\n",
        "        print(\"Lista de contatos:\")\n",
        "        for nome, telefone in contatos.items():\n",
        "            print(f\"{nome}: {telefone}\")\n",
        "    else:\n",
        "        print(\"Nenhum contato cadastrado.\")\n",
        "\n",
        "contatos = {}\n",
        "\n",
        "while True:\n",
        "    print(\"\\nMenu:\")\n",
        "    print(\"1. Adicionar contato\")\n",
        "    print(\"2. Remover contato\")\n",
        "    print(\"3. Listar contatos\")\n",
        "    print(\"4. Sair\")\n",
        "    opcao = input(\"Escolha uma opção: \")\n",
        "\n",
        "    if opcao == \"1\":\n",
        "        nome = input(\"Digite o nome do contato: \")\n",
        "        telefone = input(\"Digite o telefone do contato: \")\n",
        "        adicionar_contato(contatos, nome, telefone)\n",
        "    elif opcao == \"2\":\n",
        "        nome = input(\"Digite o nome do contato a ser removido: \")\n",
        "        remover_contato(contatos, nome)\n",
        "    elif opcao == \"3\":\n",
        "        listar_contatos(contatos)\n",
        "    elif opcao == \"4\":\n",
        "        print(\"Saindo do programa...\")\n",
        "        break\n",
        "    else:\n",
        "        print(\"Opção inválida. Tente novamente.\")\n"
      ],
      "metadata": {
        "colab": {
          "base_uri": "https://localhost:8080/"
        },
        "id": "GsUMyOKeZ1LF",
        "outputId": "4008411b-8cde-4a56-cee6-de809870e2a5"
      },
      "execution_count": null,
      "outputs": [
        {
          "output_type": "stream",
          "name": "stdout",
          "text": [
            "\n",
            "Menu:\n",
            "1. Adicionar contato\n",
            "2. Remover contato\n",
            "3. Listar contatos\n",
            "4. Sair\n",
            "Escolha uma opção: 1\n",
            "Digite o nome do contato: Memphis Depay\n",
            "Digite o telefone do contato: 119991038264\n",
            "Contato Memphis Depay adicionado com sucesso!\n",
            "\n",
            "Menu:\n",
            "1. Adicionar contato\n",
            "2. Remover contato\n",
            "3. Listar contatos\n",
            "4. Sair\n",
            "Escolha uma opção: 2\n",
            "Digite o nome do contato a ser removido: Memphis Depay\n",
            "Contato Memphis Depay removido com sucesso!\n",
            "\n",
            "Menu:\n",
            "1. Adicionar contato\n",
            "2. Remover contato\n",
            "3. Listar contatos\n",
            "4. Sair\n",
            "Escolha uma opção: 3\n",
            "Nenhum contato cadastrado.\n",
            "\n",
            "Menu:\n",
            "1. Adicionar contato\n",
            "2. Remover contato\n",
            "3. Listar contatos\n",
            "4. Sair\n",
            "Escolha uma opção: 4\n",
            "Saindo do programa...\n"
          ]
        }
      ]
    },
    {
      "cell_type": "code",
      "source": [
        "#Calculadora de Desconto\n",
        "\n",
        "def calcular_preco_final(preco_original, percentual_desconto):\n",
        "    desconto = preco_original * (percentual_desconto / 100)\n",
        "    preco_final = preco_original - desconto\n",
        "    return preco_final\n",
        "\n",
        "preco_original = float(input(\"Digite o preço original do produto: \"))\n",
        "percentual_desconto = float(input(\"Digite a porcentagem de desconto: \"))\n",
        "\n",
        "preco_final = calcular_preco_final(preco_original, percentual_desconto)\n",
        "print(f\"O preço final do produto após o desconto é: R${preco_final:.2f}\")\n"
      ],
      "metadata": {
        "colab": {
          "base_uri": "https://localhost:8080/"
        },
        "id": "Tjldm5e1aQZL",
        "outputId": "94d8da6d-bb9b-443a-f381-c699357265c6"
      },
      "execution_count": null,
      "outputs": [
        {
          "output_type": "stream",
          "name": "stdout",
          "text": [
            "Digite o preço original do produto: 130\n",
            "Digite a porcentagem de desconto: 15\n",
            "O preço final do produto após o desconto é: R$110.50\n"
          ]
        }
      ]
    },
    {
      "cell_type": "code",
      "source": [
        "#Análise de Dados\n",
        "\n",
        "import pandas as pd\n",
        "import seaborn as sns\n",
        "import matplotlib.pyplot as plt\n",
        "\n",
        "df = sns.load_dataset(\"titanic\")\n",
        "\n",
        "print(\"Estatísticas Descritivas:\")\n",
        "print(df.describe())\n",
        "\n",
        "plt.figure(figsize=(12, 5))\n",
        "plt.subplot(1, 2, 1)\n",
        "sns.histplot(df[\"age\"].dropna(), bins=20, kde=True)\n",
        "plt.title(\"Distribuição de Idades\")\n",
        "\n",
        "plt.subplot(1, 2, 2)\n",
        "sns.histplot(df[\"fare\"], bins=20, kde=True)\n",
        "plt.title(\"Distribuição de Tarifas\")\n",
        "\n",
        "plt.tight_layout()\n",
        "plt.show()\n",
        "\n",
        "plt.figure(figsize=(6, 4))\n",
        "sns.countplot(x=\"survived\", data=df)\n",
        "plt.xticks([0, 1], [\"Não Sobreviveu\", \"Sobreviveu\"])\n",
        "plt.title(\"Contagem de Sobreviventes\")\n",
        "plt.show()"
      ],
      "metadata": {
        "colab": {
          "base_uri": "https://localhost:8080/",
          "height": 1000
        },
        "id": "dUx4uww4ac6a",
        "outputId": "00eac451-9290-4454-8683-ffaa576c4e39"
      },
      "execution_count": null,
      "outputs": [
        {
          "output_type": "stream",
          "name": "stdout",
          "text": [
            "Estatísticas Descritivas:\n",
            "         survived      pclass         age       sibsp       parch        fare\n",
            "count  891.000000  891.000000  714.000000  891.000000  891.000000  891.000000\n",
            "mean     0.383838    2.308642   29.699118    0.523008    0.381594   32.204208\n",
            "std      0.486592    0.836071   14.526497    1.102743    0.806057   49.693429\n",
            "min      0.000000    1.000000    0.420000    0.000000    0.000000    0.000000\n",
            "25%      0.000000    2.000000   20.125000    0.000000    0.000000    7.910400\n",
            "50%      0.000000    3.000000   28.000000    0.000000    0.000000   14.454200\n",
            "75%      1.000000    3.000000   38.000000    1.000000    0.000000   31.000000\n",
            "max      1.000000    3.000000   80.000000    8.000000    6.000000  512.329200\n"
          ]
        },
        {
          "output_type": "display_data",
          "data": {
            "text/plain": [
              "<Figure size 1200x500 with 2 Axes>"
            ],
            "image/png": "[encoded data removed]"
          },
          "metadata": {}
        },
        {
          "output_type": "display_data",
          "data": {
            "text/plain": [
              "<Figure size 600x400 with 1 Axes>"
            ],
            "image/png": "[encoded data removed]"
          },
          "metadata": {}
        }
      ]
    }
  ]
}